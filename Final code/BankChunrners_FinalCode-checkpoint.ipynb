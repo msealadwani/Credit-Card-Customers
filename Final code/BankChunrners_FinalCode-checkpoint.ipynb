{
 "cells": [
  {
   "cell_type": "code",
   "execution_count": 43,
   "id": "35b02dbd",
   "metadata": {},
   "outputs": [
    {
     "name": "stdout",
     "output_type": "stream",
     "text": [
      "Collecting colorspacious\n",
      "  Downloading colorspacious-1.1.2-py2.py3-none-any.whl (37 kB)\n",
      "Requirement already satisfied: numpy in c:\\users\\user\\anaconda3\\lib\\site-packages (from colorspacious) (1.20.1)\n",
      "Installing collected packages: colorspacious\n",
      "Successfully installed colorspacious-1.1.2\n"
     ]
    }
   ],
   "source": [
    "! pip install colorspacious"
   ]
  },
  {
   "cell_type": "code",
   "execution_count": 104,
   "id": "a0764d5b",
   "metadata": {},
   "outputs": [],
   "source": [
    "#importing the libraries that I need\n",
    "import pandas as pd\n",
    "import numpy as np\n",
    "import matplotlib.pyplot as plt\n",
    "import seaborn as sns\n",
    "from colorspacious import cspace_converter\n",
    "pd.set_option('display.float_format', lambda x: '%.2f' % x)\n",
    "%config InlinBacked.figure_format = 'png'"
   ]
  },
  {
   "cell_type": "markdown",
   "id": "0298d3d9",
   "metadata": {},
   "source": [
    "# Explore The Data\n"
   ]
  },
  {
   "cell_type": "markdown",
   "id": "366240de",
   "metadata": {},
   "source": [
    "#### Read the `BankChurners.csv` dataset into an object named `df`"
   ]
  },
  {
   "cell_type": "code",
   "execution_count": 4,
   "id": "9ad8e3d8",
   "metadata": {},
   "outputs": [],
   "source": [
    "df = pd.read_csv('BankChurners.csv')"
   ]
  },
  {
   "cell_type": "markdown",
   "id": "8382b198",
   "metadata": {},
   "source": [
    "#### Look at the first five rows of the data set."
   ]
  },
  {
   "cell_type": "code",
   "execution_count": 5,
   "id": "8ab64ebd",
   "metadata": {
    "scrolled": true
   },
   "outputs": [
    {
     "data": {
      "text/html": [
       "<div>\n",
       "<style scoped>\n",
       "    .dataframe tbody tr th:only-of-type {\n",
       "        vertical-align: middle;\n",
       "    }\n",
       "\n",
       "    .dataframe tbody tr th {\n",
       "        vertical-align: top;\n",
       "    }\n",
       "\n",
       "    .dataframe thead th {\n",
       "        text-align: right;\n",
       "    }\n",
       "</style>\n",
       "<table border=\"1\" class=\"dataframe\">\n",
       "  <thead>\n",
       "    <tr style=\"text-align: right;\">\n",
       "      <th></th>\n",
       "      <th>CLIENTNUM</th>\n",
       "      <th>Attrition_Flag</th>\n",
       "      <th>Customer_Age</th>\n",
       "      <th>Gender</th>\n",
       "      <th>Dependent_count</th>\n",
       "      <th>Education_Level</th>\n",
       "      <th>Marital_Status</th>\n",
       "      <th>Income_Category</th>\n",
       "      <th>Card_Category</th>\n",
       "      <th>Months_on_book</th>\n",
       "      <th>...</th>\n",
       "      <th>Credit_Limit</th>\n",
       "      <th>Total_Revolving_Bal</th>\n",
       "      <th>Avg_Open_To_Buy</th>\n",
       "      <th>Total_Amt_Chng_Q4_Q1</th>\n",
       "      <th>Total_Trans_Amt</th>\n",
       "      <th>Total_Trans_Ct</th>\n",
       "      <th>Total_Ct_Chng_Q4_Q1</th>\n",
       "      <th>Avg_Utilization_Ratio</th>\n",
       "      <th>Naive_Bayes_Classifier_Attrition_Flag_Card_Category_Contacts_Count_12_mon_Dependent_count_Education_Level_Months_Inactive_12_mon_1</th>\n",
       "      <th>Naive_Bayes_Classifier_Attrition_Flag_Card_Category_Contacts_Count_12_mon_Dependent_count_Education_Level_Months_Inactive_12_mon_2</th>\n",
       "    </tr>\n",
       "  </thead>\n",
       "  <tbody>\n",
       "    <tr>\n",
       "      <th>0</th>\n",
       "      <td>768805383</td>\n",
       "      <td>Existing Customer</td>\n",
       "      <td>45</td>\n",
       "      <td>M</td>\n",
       "      <td>3</td>\n",
       "      <td>High School</td>\n",
       "      <td>Married</td>\n",
       "      <td>$60K - $80K</td>\n",
       "      <td>Blue</td>\n",
       "      <td>39</td>\n",
       "      <td>...</td>\n",
       "      <td>12691.00</td>\n",
       "      <td>777</td>\n",
       "      <td>11914.00</td>\n",
       "      <td>1.33</td>\n",
       "      <td>1144</td>\n",
       "      <td>42</td>\n",
       "      <td>1.62</td>\n",
       "      <td>0.06</td>\n",
       "      <td>0.00</td>\n",
       "      <td>1.00</td>\n",
       "    </tr>\n",
       "    <tr>\n",
       "      <th>1</th>\n",
       "      <td>818770008</td>\n",
       "      <td>Existing Customer</td>\n",
       "      <td>49</td>\n",
       "      <td>F</td>\n",
       "      <td>5</td>\n",
       "      <td>Graduate</td>\n",
       "      <td>Single</td>\n",
       "      <td>Less than $40K</td>\n",
       "      <td>Blue</td>\n",
       "      <td>44</td>\n",
       "      <td>...</td>\n",
       "      <td>8256.00</td>\n",
       "      <td>864</td>\n",
       "      <td>7392.00</td>\n",
       "      <td>1.54</td>\n",
       "      <td>1291</td>\n",
       "      <td>33</td>\n",
       "      <td>3.71</td>\n",
       "      <td>0.10</td>\n",
       "      <td>0.00</td>\n",
       "      <td>1.00</td>\n",
       "    </tr>\n",
       "    <tr>\n",
       "      <th>2</th>\n",
       "      <td>713982108</td>\n",
       "      <td>Existing Customer</td>\n",
       "      <td>51</td>\n",
       "      <td>M</td>\n",
       "      <td>3</td>\n",
       "      <td>Graduate</td>\n",
       "      <td>Married</td>\n",
       "      <td>$80K - $120K</td>\n",
       "      <td>Blue</td>\n",
       "      <td>36</td>\n",
       "      <td>...</td>\n",
       "      <td>3418.00</td>\n",
       "      <td>0</td>\n",
       "      <td>3418.00</td>\n",
       "      <td>2.59</td>\n",
       "      <td>1887</td>\n",
       "      <td>20</td>\n",
       "      <td>2.33</td>\n",
       "      <td>0.00</td>\n",
       "      <td>0.00</td>\n",
       "      <td>1.00</td>\n",
       "    </tr>\n",
       "    <tr>\n",
       "      <th>3</th>\n",
       "      <td>769911858</td>\n",
       "      <td>Existing Customer</td>\n",
       "      <td>40</td>\n",
       "      <td>F</td>\n",
       "      <td>4</td>\n",
       "      <td>High School</td>\n",
       "      <td>Unknown</td>\n",
       "      <td>Less than $40K</td>\n",
       "      <td>Blue</td>\n",
       "      <td>34</td>\n",
       "      <td>...</td>\n",
       "      <td>3313.00</td>\n",
       "      <td>2517</td>\n",
       "      <td>796.00</td>\n",
       "      <td>1.41</td>\n",
       "      <td>1171</td>\n",
       "      <td>20</td>\n",
       "      <td>2.33</td>\n",
       "      <td>0.76</td>\n",
       "      <td>0.00</td>\n",
       "      <td>1.00</td>\n",
       "    </tr>\n",
       "    <tr>\n",
       "      <th>4</th>\n",
       "      <td>709106358</td>\n",
       "      <td>Existing Customer</td>\n",
       "      <td>40</td>\n",
       "      <td>M</td>\n",
       "      <td>3</td>\n",
       "      <td>Uneducated</td>\n",
       "      <td>Married</td>\n",
       "      <td>$60K - $80K</td>\n",
       "      <td>Blue</td>\n",
       "      <td>21</td>\n",
       "      <td>...</td>\n",
       "      <td>4716.00</td>\n",
       "      <td>0</td>\n",
       "      <td>4716.00</td>\n",
       "      <td>2.17</td>\n",
       "      <td>816</td>\n",
       "      <td>28</td>\n",
       "      <td>2.50</td>\n",
       "      <td>0.00</td>\n",
       "      <td>0.00</td>\n",
       "      <td>1.00</td>\n",
       "    </tr>\n",
       "  </tbody>\n",
       "</table>\n",
       "<p>5 rows × 23 columns</p>\n",
       "</div>"
      ],
      "text/plain": [
       "   CLIENTNUM     Attrition_Flag  Customer_Age Gender  Dependent_count  \\\n",
       "0  768805383  Existing Customer            45      M                3   \n",
       "1  818770008  Existing Customer            49      F                5   \n",
       "2  713982108  Existing Customer            51      M                3   \n",
       "3  769911858  Existing Customer            40      F                4   \n",
       "4  709106358  Existing Customer            40      M                3   \n",
       "\n",
       "  Education_Level Marital_Status Income_Category Card_Category  \\\n",
       "0     High School        Married     $60K - $80K          Blue   \n",
       "1        Graduate         Single  Less than $40K          Blue   \n",
       "2        Graduate        Married    $80K - $120K          Blue   \n",
       "3     High School        Unknown  Less than $40K          Blue   \n",
       "4      Uneducated        Married     $60K - $80K          Blue   \n",
       "\n",
       "   Months_on_book  ...  Credit_Limit  Total_Revolving_Bal  Avg_Open_To_Buy  \\\n",
       "0              39  ...      12691.00                  777         11914.00   \n",
       "1              44  ...       8256.00                  864          7392.00   \n",
       "2              36  ...       3418.00                    0          3418.00   \n",
       "3              34  ...       3313.00                 2517           796.00   \n",
       "4              21  ...       4716.00                    0          4716.00   \n",
       "\n",
       "   Total_Amt_Chng_Q4_Q1  Total_Trans_Amt  Total_Trans_Ct  Total_Ct_Chng_Q4_Q1  \\\n",
       "0                  1.33             1144              42                 1.62   \n",
       "1                  1.54             1291              33                 3.71   \n",
       "2                  2.59             1887              20                 2.33   \n",
       "3                  1.41             1171              20                 2.33   \n",
       "4                  2.17              816              28                 2.50   \n",
       "\n",
       "   Avg_Utilization_Ratio  \\\n",
       "0                   0.06   \n",
       "1                   0.10   \n",
       "2                   0.00   \n",
       "3                   0.76   \n",
       "4                   0.00   \n",
       "\n",
       "   Naive_Bayes_Classifier_Attrition_Flag_Card_Category_Contacts_Count_12_mon_Dependent_count_Education_Level_Months_Inactive_12_mon_1  \\\n",
       "0                                               0.00                                                                                    \n",
       "1                                               0.00                                                                                    \n",
       "2                                               0.00                                                                                    \n",
       "3                                               0.00                                                                                    \n",
       "4                                               0.00                                                                                    \n",
       "\n",
       "   Naive_Bayes_Classifier_Attrition_Flag_Card_Category_Contacts_Count_12_mon_Dependent_count_Education_Level_Months_Inactive_12_mon_2  \n",
       "0                                               1.00                                                                                   \n",
       "1                                               1.00                                                                                   \n",
       "2                                               1.00                                                                                   \n",
       "3                                               1.00                                                                                   \n",
       "4                                               1.00                                                                                   \n",
       "\n",
       "[5 rows x 23 columns]"
      ]
     },
     "execution_count": 5,
     "metadata": {},
     "output_type": "execute_result"
    }
   ],
   "source": [
    "df.head()"
   ]
  },
  {
   "cell_type": "code",
   "execution_count": 6,
   "id": "7644e8b7",
   "metadata": {},
   "outputs": [],
   "source": [
    "#I dropped these columns because it has unnecessary values, and it just takes space\n",
    "df.drop([\"Naive_Bayes_Classifier_Attrition_Flag_Card_Category_Contacts_Count_12_mon_Dependent_count_Education_Level_Months_Inactive_12_mon_1\",'Naive_Bayes_Classifier_Attrition_Flag_Card_Category_Contacts_Count_12_mon_Dependent_count_Education_Level_Months_Inactive_12_mon_2'], axis='columns', inplace=True)\n"
   ]
  },
  {
   "cell_type": "code",
   "execution_count": 7,
   "id": "9bb2e4bb",
   "metadata": {
    "scrolled": true
   },
   "outputs": [
    {
     "name": "stdout",
     "output_type": "stream",
     "text": [
      "<class 'pandas.core.frame.DataFrame'>\n",
      "RangeIndex: 10127 entries, 0 to 10126\n",
      "Data columns (total 21 columns):\n",
      " #   Column                    Non-Null Count  Dtype  \n",
      "---  ------                    --------------  -----  \n",
      " 0   CLIENTNUM                 10127 non-null  int64  \n",
      " 1   Attrition_Flag            10127 non-null  object \n",
      " 2   Customer_Age              10127 non-null  int64  \n",
      " 3   Gender                    10127 non-null  object \n",
      " 4   Dependent_count           10127 non-null  int64  \n",
      " 5   Education_Level           10127 non-null  object \n",
      " 6   Marital_Status            10127 non-null  object \n",
      " 7   Income_Category           10127 non-null  object \n",
      " 8   Card_Category             10127 non-null  object \n",
      " 9   Months_on_book            10127 non-null  int64  \n",
      " 10  Total_Relationship_Count  10127 non-null  int64  \n",
      " 11  Months_Inactive_12_mon    10127 non-null  int64  \n",
      " 12  Contacts_Count_12_mon     10127 non-null  int64  \n",
      " 13  Credit_Limit              10127 non-null  float64\n",
      " 14  Total_Revolving_Bal       10127 non-null  int64  \n",
      " 15  Avg_Open_To_Buy           10127 non-null  float64\n",
      " 16  Total_Amt_Chng_Q4_Q1      10127 non-null  float64\n",
      " 17  Total_Trans_Amt           10127 non-null  int64  \n",
      " 18  Total_Trans_Ct            10127 non-null  int64  \n",
      " 19  Total_Ct_Chng_Q4_Q1       10127 non-null  float64\n",
      " 20  Avg_Utilization_Ratio     10127 non-null  float64\n",
      "dtypes: float64(5), int64(10), object(6)\n",
      "memory usage: 1.6+ MB\n"
     ]
    }
   ],
   "source": [
    "df.info()"
   ]
  },
  {
   "cell_type": "markdown",
   "id": "ad339b6b",
   "metadata": {},
   "source": [
    "#### The result of `.value_counts()` is the **Attrition_Flag** column's values as its index"
   ]
  },
  {
   "cell_type": "code",
   "execution_count": 8,
   "id": "af18d7b8",
   "metadata": {
    "scrolled": true
   },
   "outputs": [
    {
     "data": {
      "text/plain": [
       "Existing Customer    8500\n",
       "Attrited Customer    1627\n",
       "Name: Attrition_Flag, dtype: int64"
      ]
     },
     "execution_count": 8,
     "metadata": {},
     "output_type": "execute_result"
    }
   ],
   "source": [
    "df['Attrition_Flag'].value_counts()"
   ]
  },
  {
   "cell_type": "markdown",
   "id": "bb88ec85",
   "metadata": {},
   "source": [
    "#### By using `.describe()` we see the statistics of our values"
   ]
  },
  {
   "cell_type": "code",
   "execution_count": 9,
   "id": "9d5ad984",
   "metadata": {
    "scrolled": true
   },
   "outputs": [
    {
     "data": {
      "text/html": [
       "<div>\n",
       "<style scoped>\n",
       "    .dataframe tbody tr th:only-of-type {\n",
       "        vertical-align: middle;\n",
       "    }\n",
       "\n",
       "    .dataframe tbody tr th {\n",
       "        vertical-align: top;\n",
       "    }\n",
       "\n",
       "    .dataframe thead th {\n",
       "        text-align: right;\n",
       "    }\n",
       "</style>\n",
       "<table border=\"1\" class=\"dataframe\">\n",
       "  <thead>\n",
       "    <tr style=\"text-align: right;\">\n",
       "      <th></th>\n",
       "      <th>CLIENTNUM</th>\n",
       "      <th>Customer_Age</th>\n",
       "      <th>Dependent_count</th>\n",
       "      <th>Months_on_book</th>\n",
       "      <th>Total_Relationship_Count</th>\n",
       "      <th>Months_Inactive_12_mon</th>\n",
       "      <th>Contacts_Count_12_mon</th>\n",
       "      <th>Credit_Limit</th>\n",
       "      <th>Total_Revolving_Bal</th>\n",
       "      <th>Avg_Open_To_Buy</th>\n",
       "      <th>Total_Amt_Chng_Q4_Q1</th>\n",
       "      <th>Total_Trans_Amt</th>\n",
       "      <th>Total_Trans_Ct</th>\n",
       "      <th>Total_Ct_Chng_Q4_Q1</th>\n",
       "      <th>Avg_Utilization_Ratio</th>\n",
       "    </tr>\n",
       "  </thead>\n",
       "  <tbody>\n",
       "    <tr>\n",
       "      <th>count</th>\n",
       "      <td>10127.00</td>\n",
       "      <td>10127.00</td>\n",
       "      <td>10127.00</td>\n",
       "      <td>10127.00</td>\n",
       "      <td>10127.00</td>\n",
       "      <td>10127.00</td>\n",
       "      <td>10127.00</td>\n",
       "      <td>10127.00</td>\n",
       "      <td>10127.00</td>\n",
       "      <td>10127.00</td>\n",
       "      <td>10127.00</td>\n",
       "      <td>10127.00</td>\n",
       "      <td>10127.00</td>\n",
       "      <td>10127.00</td>\n",
       "      <td>10127.00</td>\n",
       "    </tr>\n",
       "    <tr>\n",
       "      <th>mean</th>\n",
       "      <td>739177606.33</td>\n",
       "      <td>46.33</td>\n",
       "      <td>2.35</td>\n",
       "      <td>35.93</td>\n",
       "      <td>3.81</td>\n",
       "      <td>2.34</td>\n",
       "      <td>2.46</td>\n",
       "      <td>8631.95</td>\n",
       "      <td>1162.81</td>\n",
       "      <td>7469.14</td>\n",
       "      <td>0.76</td>\n",
       "      <td>4404.09</td>\n",
       "      <td>64.86</td>\n",
       "      <td>0.71</td>\n",
       "      <td>0.27</td>\n",
       "    </tr>\n",
       "    <tr>\n",
       "      <th>std</th>\n",
       "      <td>36903783.45</td>\n",
       "      <td>8.02</td>\n",
       "      <td>1.30</td>\n",
       "      <td>7.99</td>\n",
       "      <td>1.55</td>\n",
       "      <td>1.01</td>\n",
       "      <td>1.11</td>\n",
       "      <td>9088.78</td>\n",
       "      <td>814.99</td>\n",
       "      <td>9090.69</td>\n",
       "      <td>0.22</td>\n",
       "      <td>3397.13</td>\n",
       "      <td>23.47</td>\n",
       "      <td>0.24</td>\n",
       "      <td>0.28</td>\n",
       "    </tr>\n",
       "    <tr>\n",
       "      <th>min</th>\n",
       "      <td>708082083.00</td>\n",
       "      <td>26.00</td>\n",
       "      <td>0.00</td>\n",
       "      <td>13.00</td>\n",
       "      <td>1.00</td>\n",
       "      <td>0.00</td>\n",
       "      <td>0.00</td>\n",
       "      <td>1438.30</td>\n",
       "      <td>0.00</td>\n",
       "      <td>3.00</td>\n",
       "      <td>0.00</td>\n",
       "      <td>510.00</td>\n",
       "      <td>10.00</td>\n",
       "      <td>0.00</td>\n",
       "      <td>0.00</td>\n",
       "    </tr>\n",
       "    <tr>\n",
       "      <th>25%</th>\n",
       "      <td>713036770.50</td>\n",
       "      <td>41.00</td>\n",
       "      <td>1.00</td>\n",
       "      <td>31.00</td>\n",
       "      <td>3.00</td>\n",
       "      <td>2.00</td>\n",
       "      <td>2.00</td>\n",
       "      <td>2555.00</td>\n",
       "      <td>359.00</td>\n",
       "      <td>1324.50</td>\n",
       "      <td>0.63</td>\n",
       "      <td>2155.50</td>\n",
       "      <td>45.00</td>\n",
       "      <td>0.58</td>\n",
       "      <td>0.02</td>\n",
       "    </tr>\n",
       "    <tr>\n",
       "      <th>50%</th>\n",
       "      <td>717926358.00</td>\n",
       "      <td>46.00</td>\n",
       "      <td>2.00</td>\n",
       "      <td>36.00</td>\n",
       "      <td>4.00</td>\n",
       "      <td>2.00</td>\n",
       "      <td>2.00</td>\n",
       "      <td>4549.00</td>\n",
       "      <td>1276.00</td>\n",
       "      <td>3474.00</td>\n",
       "      <td>0.74</td>\n",
       "      <td>3899.00</td>\n",
       "      <td>67.00</td>\n",
       "      <td>0.70</td>\n",
       "      <td>0.18</td>\n",
       "    </tr>\n",
       "    <tr>\n",
       "      <th>75%</th>\n",
       "      <td>773143533.00</td>\n",
       "      <td>52.00</td>\n",
       "      <td>3.00</td>\n",
       "      <td>40.00</td>\n",
       "      <td>5.00</td>\n",
       "      <td>3.00</td>\n",
       "      <td>3.00</td>\n",
       "      <td>11067.50</td>\n",
       "      <td>1784.00</td>\n",
       "      <td>9859.00</td>\n",
       "      <td>0.86</td>\n",
       "      <td>4741.00</td>\n",
       "      <td>81.00</td>\n",
       "      <td>0.82</td>\n",
       "      <td>0.50</td>\n",
       "    </tr>\n",
       "    <tr>\n",
       "      <th>max</th>\n",
       "      <td>828343083.00</td>\n",
       "      <td>73.00</td>\n",
       "      <td>5.00</td>\n",
       "      <td>56.00</td>\n",
       "      <td>6.00</td>\n",
       "      <td>6.00</td>\n",
       "      <td>6.00</td>\n",
       "      <td>34516.00</td>\n",
       "      <td>2517.00</td>\n",
       "      <td>34516.00</td>\n",
       "      <td>3.40</td>\n",
       "      <td>18484.00</td>\n",
       "      <td>139.00</td>\n",
       "      <td>3.71</td>\n",
       "      <td>1.00</td>\n",
       "    </tr>\n",
       "  </tbody>\n",
       "</table>\n",
       "</div>"
      ],
      "text/plain": [
       "         CLIENTNUM  Customer_Age  Dependent_count  Months_on_book  \\\n",
       "count     10127.00      10127.00         10127.00        10127.00   \n",
       "mean  739177606.33         46.33             2.35           35.93   \n",
       "std    36903783.45          8.02             1.30            7.99   \n",
       "min   708082083.00         26.00             0.00           13.00   \n",
       "25%   713036770.50         41.00             1.00           31.00   \n",
       "50%   717926358.00         46.00             2.00           36.00   \n",
       "75%   773143533.00         52.00             3.00           40.00   \n",
       "max   828343083.00         73.00             5.00           56.00   \n",
       "\n",
       "       Total_Relationship_Count  Months_Inactive_12_mon  \\\n",
       "count                  10127.00                10127.00   \n",
       "mean                       3.81                    2.34   \n",
       "std                        1.55                    1.01   \n",
       "min                        1.00                    0.00   \n",
       "25%                        3.00                    2.00   \n",
       "50%                        4.00                    2.00   \n",
       "75%                        5.00                    3.00   \n",
       "max                        6.00                    6.00   \n",
       "\n",
       "       Contacts_Count_12_mon  Credit_Limit  Total_Revolving_Bal  \\\n",
       "count               10127.00      10127.00             10127.00   \n",
       "mean                    2.46       8631.95              1162.81   \n",
       "std                     1.11       9088.78               814.99   \n",
       "min                     0.00       1438.30                 0.00   \n",
       "25%                     2.00       2555.00               359.00   \n",
       "50%                     2.00       4549.00              1276.00   \n",
       "75%                     3.00      11067.50              1784.00   \n",
       "max                     6.00      34516.00              2517.00   \n",
       "\n",
       "       Avg_Open_To_Buy  Total_Amt_Chng_Q4_Q1  Total_Trans_Amt  Total_Trans_Ct  \\\n",
       "count         10127.00              10127.00         10127.00        10127.00   \n",
       "mean           7469.14                  0.76          4404.09           64.86   \n",
       "std            9090.69                  0.22          3397.13           23.47   \n",
       "min               3.00                  0.00           510.00           10.00   \n",
       "25%            1324.50                  0.63          2155.50           45.00   \n",
       "50%            3474.00                  0.74          3899.00           67.00   \n",
       "75%            9859.00                  0.86          4741.00           81.00   \n",
       "max           34516.00                  3.40         18484.00          139.00   \n",
       "\n",
       "       Total_Ct_Chng_Q4_Q1  Avg_Utilization_Ratio  \n",
       "count             10127.00               10127.00  \n",
       "mean                  0.71                   0.27  \n",
       "std                   0.24                   0.28  \n",
       "min                   0.00                   0.00  \n",
       "25%                   0.58                   0.02  \n",
       "50%                   0.70                   0.18  \n",
       "75%                   0.82                   0.50  \n",
       "max                   3.71                   1.00  "
      ]
     },
     "execution_count": 9,
     "metadata": {},
     "output_type": "execute_result"
    }
   ],
   "source": [
    "df.describe()"
   ]
  },
  {
   "cell_type": "markdown",
   "id": "cfba0fbd",
   "metadata": {},
   "source": [
    "#### A quick look at the names of the columns by useing `.columns` to explore."
   ]
  },
  {
   "cell_type": "code",
   "execution_count": 10,
   "id": "473641aa",
   "metadata": {},
   "outputs": [
    {
     "data": {
      "text/plain": [
       "Index(['CLIENTNUM', 'Attrition_Flag', 'Customer_Age', 'Gender',\n",
       "       'Dependent_count', 'Education_Level', 'Marital_Status',\n",
       "       'Income_Category', 'Card_Category', 'Months_on_book',\n",
       "       'Total_Relationship_Count', 'Months_Inactive_12_mon',\n",
       "       'Contacts_Count_12_mon', 'Credit_Limit', 'Total_Revolving_Bal',\n",
       "       'Avg_Open_To_Buy', 'Total_Amt_Chng_Q4_Q1', 'Total_Trans_Amt',\n",
       "       'Total_Trans_Ct', 'Total_Ct_Chng_Q4_Q1', 'Avg_Utilization_Ratio'],\n",
       "      dtype='object')"
      ]
     },
     "execution_count": 10,
     "metadata": {},
     "output_type": "execute_result"
    }
   ],
   "source": [
    "df.columns"
   ]
  },
  {
   "cell_type": "markdown",
   "id": "f4b277f9",
   "metadata": {},
   "source": [
    "####  `.isna().sum()` to sum the null values in the dataset."
   ]
  },
  {
   "cell_type": "code",
   "execution_count": 11,
   "id": "04a560a0",
   "metadata": {
    "scrolled": false
   },
   "outputs": [
    {
     "data": {
      "text/plain": [
       "CLIENTNUM                   0\n",
       "Attrition_Flag              0\n",
       "Customer_Age                0\n",
       "Gender                      0\n",
       "Dependent_count             0\n",
       "Education_Level             0\n",
       "Marital_Status              0\n",
       "Income_Category             0\n",
       "Card_Category               0\n",
       "Months_on_book              0\n",
       "Total_Relationship_Count    0\n",
       "Months_Inactive_12_mon      0\n",
       "Contacts_Count_12_mon       0\n",
       "Credit_Limit                0\n",
       "Total_Revolving_Bal         0\n",
       "Avg_Open_To_Buy             0\n",
       "Total_Amt_Chng_Q4_Q1        0\n",
       "Total_Trans_Amt             0\n",
       "Total_Trans_Ct              0\n",
       "Total_Ct_Chng_Q4_Q1         0\n",
       "Avg_Utilization_Ratio       0\n",
       "dtype: int64"
      ]
     },
     "execution_count": 11,
     "metadata": {},
     "output_type": "execute_result"
    }
   ],
   "source": [
    "df.isna().sum()"
   ]
  },
  {
   "cell_type": "markdown",
   "id": "a90812dd",
   "metadata": {},
   "source": [
    "#### Defining a function called `show_values()` to show values in my plots"
   ]
  },
  {
   "cell_type": "code",
   "execution_count": 12,
   "id": "c739eedc",
   "metadata": {},
   "outputs": [],
   "source": [
    "def show_values(axs, orient=\"v\", space=.01):\n",
    "    def _single(ax):\n",
    "        if orient == \"v\":\n",
    "            for p in ax.patches:\n",
    "                _x = p.get_x() + p.get_width() / 2\n",
    "                _y = p.get_y() + p.get_height() + (p.get_height()*0.01)\n",
    "                value = '{:.1f}'.format(p.get_height())\n",
    "                ax.text(_x, _y, value, ha=\"center\") \n",
    "        elif orient == \"h\":\n",
    "            for p in ax.patches:\n",
    "                _x = p.get_x() + p.get_width() + float(space)\n",
    "                _y = p.get_y() + p.get_height() - (p.get_height()*0.5)\n",
    "                value = '{:.1f}'.format(p.get_width())\n",
    "                ax.text(_x, _y, value, ha=\"left\")\n",
    "\n",
    "    if isinstance(axs, np.ndarray):\n",
    "        for idx, ax in np.ndenumerate(axs):\n",
    "            _single(ax)\n",
    "    else:\n",
    "        _single(axs)"
   ]
  },
  {
   "cell_type": "markdown",
   "id": "3e9dcab6",
   "metadata": {},
   "source": [
    "# Start to visualize the data"
   ]
  },
  {
   "cell_type": "code",
   "execution_count": 28,
   "id": "85d69065",
   "metadata": {
    "scrolled": true
   },
   "outputs": [
    {
     "data": {
      "text/plain": [
       "Existing Customer    8500\n",
       "Attrited Customer    1627\n",
       "Name: Attrition_Flag, dtype: int64"
      ]
     },
     "execution_count": 28,
     "metadata": {},
     "output_type": "execute_result"
    }
   ],
   "source": [
    "df.Attrition_Flag.value_counts()"
   ]
  },
  {
   "cell_type": "code",
   "execution_count": 132,
   "id": "bf3a68ab",
   "metadata": {},
   "outputs": [
    {
     "data": {
      "image/png": "[encoded data removed]",
      "text/plain": [
       "<Figure size 720x288 with 1 Axes>"
      ]
     },
     "metadata": {
      "needs_background": "light"
     },
     "output_type": "display_data"
    }
   ],
   "source": [
    "plt.figure(figsize=(10,4))\n",
    "num_att=sns.countplot(x='Attrition_Flag',data=df)\n",
    "show_values(num_att)\n",
    "\n",
    "plt.xlabel('Attrition Flag',fontsize=15,family='serif');\n",
    "plt.ylabel('Number of Attrition Flag',fontsize=15,family='serif');\n"
   ]
  },
  {
   "cell_type": "markdown",
   "id": "58c2a7eb",
   "metadata": {},
   "source": [
    "#### `.countplot()` to count how many time the variable has been repeated, `.figure()` to change the figure size and `savefig.()` to save a figure."
   ]
  },
  {
   "cell_type": "code",
   "execution_count": 129,
   "id": "c9b90902",
   "metadata": {
    "scrolled": true
   },
   "outputs": [
    {
     "data": {
      "image/png": "[encoded data removed]",
      "text/plain": [
       "<Figure size 720x288 with 1 Axes>"
      ]
     },
     "metadata": {
      "needs_background": "light"
     },
     "output_type": "display_data"
    }
   ],
   "source": [
    "plt.figure(figsize=(10,4))\n",
    "plot_gender=sns.countplot(x=df.Gender,hue=df.Attrition_Flag)\n",
    "show_values(plot_gender)\n",
    "plt.title('Who is likely to Attrited?',fontsize=27,family='serif');\n",
    "plt.xlabel('Gender',fontsize=15,family='serif');\n",
    "plt.ylabel('Number of Genders',fontsize=15,family='serif');\n",
    "plt.savefig('fig2.png')"
   ]
  },
  {
   "cell_type": "markdown",
   "id": "ab5b6865",
   "metadata": {},
   "source": [
    "##### There are a 4769 Male and a 5358 Female. \n",
    "We can see from the plot that females are more likely to attrite."
   ]
  },
  {
   "cell_type": "markdown",
   "id": "b17adccf",
   "metadata": {},
   "source": [
    "#### The result of `.value_counts()` is the **Gender** column's values as its index"
   ]
  },
  {
   "cell_type": "code",
   "execution_count": 15,
   "id": "037273f7",
   "metadata": {
    "scrolled": true
   },
   "outputs": [
    {
     "data": {
      "text/plain": [
       "F    5358\n",
       "M    4769\n",
       "Name: Gender, dtype: int64"
      ]
     },
     "execution_count": 15,
     "metadata": {},
     "output_type": "execute_result"
    }
   ],
   "source": [
    "df.Gender.value_counts()"
   ]
  },
  {
   "cell_type": "markdown",
   "id": "8ce7e99d",
   "metadata": {},
   "source": [
    "#### Creating a Distribution Plot by using `.histplot` and also estimate the probability density function using `kde=True`"
   ]
  },
  {
   "cell_type": "code",
   "execution_count": 128,
   "id": "6a79a33e",
   "metadata": {},
   "outputs": [
    {
     "data": {
      "image/png": "[encoded data removed]",
      "text/plain": [
       "<Figure size 432x288 with 1 Axes>"
      ]
     },
     "metadata": {
      "needs_background": "light"
     },
     "output_type": "display_data"
    }
   ],
   "source": [
    "sns.histplot(df.Customer_Age, kde=True);\n",
    "plt.xlabel('Customer Age',fontsize=15,family='serif');\n",
    "plt.ylabel('Number of Customer',fontsize=15,family='serif');"
   ]
  },
  {
   "cell_type": "markdown",
   "id": "057495bc",
   "metadata": {},
   "source": [
    "- We can notice that the customer age is between 40 to 50"
   ]
  },
  {
   "cell_type": "markdown",
   "id": "a04c3cc6",
   "metadata": {},
   "source": [
    "#### `.countplot()` to count how many time the variable has been repeated, `.figure()` to change the figure size, `.xticks(rotation=90)` to rotate by 90 degrees to the x values and `savefig.()` to save a figure."
   ]
  },
  {
   "cell_type": "code",
   "execution_count": 133,
   "id": "1d47fcef",
   "metadata": {
    "scrolled": true
   },
   "outputs": [
    {
     "data": {
      "image/png": "[encoded data removed]",
      "text/plain": [
       "<Figure size 1080x288 with 1 Axes>"
      ]
     },
     "metadata": {
      "needs_background": "light"
     },
     "output_type": "display_data"
    }
   ],
   "source": [
    "plt.figure(figsize=(15,4))\n",
    "plot_age=sns.countplot(x=df.Customer_Age,hue=df.Attrition_Flag)\n",
    "plt.xticks(rotation=90);\n",
    "plt.title('The relation between customer age and attriton flag',fontsize=30,family='serif');\n",
    "plt.xlabel('Customer Age',fontsize=15,family='serif');\n",
    "plt.ylabel('Number of Customer',fontsize=15,family='serif');\n",
    "plt.savefig('fig.png', dpi=400)"
   ]
  },
  {
   "cell_type": "markdown",
   "id": "08fdfc33",
   "metadata": {},
   "source": [
    "- Most attrired customers age are from 37 to 57"
   ]
  },
  {
   "cell_type": "markdown",
   "id": "7ade7e59",
   "metadata": {},
   "source": [
    "#### `.unique()` to know what is the unique column's names"
   ]
  },
  {
   "cell_type": "code",
   "execution_count": 18,
   "id": "f25c1d8d",
   "metadata": {},
   "outputs": [
    {
     "data": {
      "text/plain": [
       "array(['Blue', 'Gold', 'Silver', 'Platinum'], dtype=object)"
      ]
     },
     "execution_count": 18,
     "metadata": {},
     "output_type": "execute_result"
    }
   ],
   "source": [
    "df.Card_Category.unique()"
   ]
  },
  {
   "cell_type": "markdown",
   "id": "3f07055d",
   "metadata": {},
   "source": [
    "#### `.countplot()` to count how many time the variable has been repeated, `.figure()` to change the figure size, Used `show_values()` function to display the values on the plot and `savefig.()` to save a figure."
   ]
  },
  {
   "cell_type": "code",
   "execution_count": 131,
   "id": "a7ab4260",
   "metadata": {},
   "outputs": [
    {
     "data": {
      "image/png": "[encoded data removed]",
      "text/plain": [
       "<Figure size 720x360 with 1 Axes>"
      ]
     },
     "metadata": {
      "needs_background": "light"
     },
     "output_type": "display_data"
    }
   ],
   "source": [
    "plt.figure(figsize=(10,5))\n",
    "plot_card=sns.countplot(x=df.Card_Category,hue=df.Attrition_Flag)\n",
    "show_values(plot_card)\n",
    "plt.title('The most used card',fontsize=30,family='serif');\n",
    "plt.xlabel('Card Category',fontsize=15,family='serif');\n",
    "plt.ylabel('Number of Cards',fontsize=15,family='serif');\n",
    "plt.savefig('fig3.png')"
   ]
  },
  {
   "cell_type": "markdown",
   "id": "6e0dc37c",
   "metadata": {},
   "source": [
    "- we can notice that most customers has a blue card, and after them are the ones that uses the silver card."
   ]
  },
  {
   "cell_type": "markdown",
   "id": "ac931768",
   "metadata": {},
   "source": [
    "#### `..barplot()` to compaire between two data, `savefig.()` to save a figure."
   ]
  },
  {
   "cell_type": "code",
   "execution_count": 127,
   "id": "60ee01a6",
   "metadata": {
    "scrolled": true
   },
   "outputs": [
    {
     "data": {
      "image/png": "[encoded data removed]",
      "text/plain": [
       "<Figure size 720x360 with 1 Axes>"
      ]
     },
     "metadata": {
      "needs_background": "light"
     },
     "output_type": "display_data"
    }
   ],
   "source": [
    "plt.figure(figsize=(10,5))\n",
    "sns.barplot(x = df.Credit_Limit,y = df.Income_Category)\n",
    "#sns.catplot(x=df.Credit_Limit, y=df.Income_Category, kind=\"bar\", data=df)\n",
    "plt.title('The relation between Income Category Credit limits',fontsize=20,family='serif');\n",
    "plt.xlabel('Credit limit',fontsize=15,family='serif');\n",
    "plt.ylabel('Income Category',fontsize=15,family='serif');\n",
    "plt.savefig('fig4.png')"
   ]
  },
  {
   "cell_type": "markdown",
   "id": "9adc2993",
   "metadata": {},
   "source": [
    "#### There is a positive relation between income Category and Credit Limit\n",
    "- the more income the customer have the more credit limit the customer will have\n",
    "- cutomers who have 120k+ income have the most creadit limit"
   ]
  },
  {
   "cell_type": "code",
   "execution_count": null,
   "id": "f3060d68",
   "metadata": {},
   "outputs": [],
   "source": []
  }
 ],
 "metadata": {
  "kernelspec": {
   "display_name": "Python 3",
   "language": "python",
   "name": "python3"
  },
  "language_info": {
   "codemirror_mode": {
    "name": "ipython",
    "version": 3
   },
   "file_extension": ".py",
   "mimetype": "text/x-python",
   "name": "python",
   "nbconvert_exporter": "python",
   "pygments_lexer": "ipython3",
   "version": "3.8.8"
  }
 },
 "nbformat": 4,
 "nbformat_minor": 5
}
